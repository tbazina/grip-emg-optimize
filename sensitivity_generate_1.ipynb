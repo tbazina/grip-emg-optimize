{
 "cells": [
  {
   "cell_type": "code",
   "execution_count": 1,
   "metadata": {},
   "outputs": [],
   "source": [
    "import pygmo as pg\n",
    "import numpy as np\n",
    "from problem import SignalProcessingParams"
   ]
  },
  {
   "cell_type": "code",
   "execution_count": 2,
   "metadata": {},
   "outputs": [
    {
     "name": "stdout",
     "output_type": "stream",
     "text": [
      "Problem name: Optimize EMG signal processing parameters to cross-corelate with grip force\n",
      "\tC++ class name: pybind11::object\n",
      "\n",
      "\tGlobal dimension:\t\t\t251\n",
      "\tInteger dimension:\t\t\t1\n",
      "\tFitness dimension:\t\t\t1\n",
      "\tNumber of objectives:\t\t\t1\n",
      "\tEquality constraints dimension:\t\t0\n",
      "\tInequality constraints dimension:\t0\n",
      "\tLower bounds: [0, 0, 0, 0, 0, ... ]\n",
      "\tUpper bounds: [2, 2, 2, 2, 2, ... ]\n",
      "\tHas batch fitness evaluation: false\n",
      "\n",
      "\tHas gradient: false\n",
      "\tUser implemented gradient sparsity: false\n",
      "\tHas hessians: false\n",
      "\tUser implemented hessians sparsity: false\n",
      "\n",
      "\tFitness evaluations: 0\n",
      "\n",
      "\tThread safety: none\n",
      "\n",
      "Extra info:\n",
      "\tSampling rate: 992.969696969697 Hz\n",
      "\tFFT window size: 496 samples\n",
      "\tFFT resolution: 2.0019550342130987 Hz\n",
      "\n"
     ]
    }
   ],
   "source": [
    "prob1 = pg.problem(SignalProcessingParams(group_number=1))\n",
    "# prob2 = pg.problem(SignalProcessingParams(group_number=2))\n",
    "print(prob1)\n",
    "# print(prob2)"
   ]
  },
  {
   "cell_type": "code",
   "execution_count": 3,
   "metadata": {},
   "outputs": [],
   "source": [
    "# Add parameter names using FFT frequencies\n",
    "param_names = list(np.round(prob1.extract(SignalProcessingParams).emg_fft_freq[1:], decimals=2))\n",
    "param_names = ['f' + str(i) for i in param_names] + ['decay', 'window']\n",
    "param_names = [i.replace('.', '_') for i in param_names]\n",
    "np.savetxt('param_names.txt', X=np.column_stack((\n",
    "  np.arange(start=1, stop=len(param_names)+1), param_names\n",
    "  )), fmt='%s')\n",
    "# param_names"
   ]
  },
  {
   "cell_type": "code",
   "execution_count": 5,
   "metadata": {},
   "outputs": [
    {
     "data": {
      "text/plain": [
       "(2000, 5)"
      ]
     },
     "metadata": {},
     "output_type": "display_data"
    },
    {
     "data": {
      "text/plain": [
       "[0, 1, 24, 248, 249]"
      ]
     },
     "metadata": {},
     "output_type": "display_data"
    },
    {
     "data": {
      "text/plain": [
       "(2000, 251)"
      ]
     },
     "execution_count": 5,
     "metadata": {},
     "output_type": "execute_result"
    }
   ],
   "source": [
    "# params_select = np.loadtxt('emg_dsample.txt', delimiter=' ')\n",
    "# params_select = np.loadtxt('emg_lvct_select_11.txt', delimiter=' ')\n",
    "params_select = np.loadtxt('emg_lvct_select_5.txt', delimiter=' ')\n",
    "display(params_select.shape)\n",
    "# selected_params = ('f2_0', 'f4_0', 'f50_05', 'f120_12', 'f124_12', 'f136_13', 'f176_17',\n",
    "#                    'f414_4', 'f472_46', 'decay', 'window')\n",
    "selected_params = ('f2_0', 'f4_0', 'f50_05', 'decay', 'window')\n",
    "# np.savetxt('param_names_select_5.txt', X=np.column_stack((\n",
    "#   np.arange(start=1, stop=len(selected_params)+1), selected_params\n",
    "#   )), fmt='%s')\n",
    "selected_index = [param_names.index(i) for i in selected_params]\n",
    "display(selected_index)\n",
    "# Always remove DC offset\n",
    "params = np.ones((params_select.shape[0], 250))\n",
    "params[:, selected_index] = params_select\n",
    "# params = params_select\n",
    "params = np.column_stack((np.zeros(params.shape[0]), params))\n",
    "params.shape"
   ]
  },
  {
   "cell_type": "code",
   "execution_count": null,
   "metadata": {},
   "outputs": [],
   "source": [
    "corr1 = [1 - prob1.fitness(i) for i in params]\n",
    "# corr2 = [prob2.fitness(i) for i in params]"
   ]
  },
  {
   "cell_type": "code",
   "execution_count": null,
   "metadata": {},
   "outputs": [],
   "source": [
    "min(corr1)\n",
    "corr2 = np.loadtxt('corr2.csv')\n",
    "display(corr2[:10])\n",
    "np.savetxt('corrs_dsample.txt', X=np.column_stack((corr1, corr2)), delimiter=' ')"
   ]
  },
  {
   "cell_type": "code",
   "execution_count": null,
   "metadata": {},
   "outputs": [],
   "source": [
    "# Slicing only first 100 corrs and params\n",
    "np.savetxt('emg_dsample_100.txt', X=params[:100, 1:], delimiter=' ')\n",
    "np.savetxt('corrs_dsample_100.txt', X=np.column_stack((corr1, corr2))[:100, :], delimiter=' ')"
   ]
  },
  {
   "cell_type": "code",
   "execution_count": null,
   "metadata": {},
   "outputs": [],
   "source": [
    "%%timeit -n1 -r1\n",
    "pop1 = pg.population(prob, size=20)"
   ]
  },
  {
   "cell_type": "code",
   "execution_count": null,
   "metadata": {},
   "outputs": [],
   "source": [
    "3300 / 3600"
   ]
  },
  {
   "cell_type": "code",
   "execution_count": null,
   "metadata": {},
   "outputs": [],
   "source": [
    "print(pop1)"
   ]
  },
  {
   "cell_type": "code",
   "execution_count": null,
   "metadata": {},
   "outputs": [],
   "source": [
    "pop1.get_x()[32][-1]"
   ]
  },
  {
   "cell_type": "code",
   "execution_count": null,
   "metadata": {},
   "outputs": [],
   "source": [
    "pop1.champion_x"
   ]
  },
  {
   "cell_type": "code",
   "execution_count": null,
   "metadata": {},
   "outputs": [],
   "source": []
  }
 ],
 "metadata": {
  "kernelspec": {
   "display_name": "evoloptim",
   "language": "python",
   "name": "python3"
  },
  "language_info": {
   "codemirror_mode": {
    "name": "ipython",
    "version": 3
   },
   "file_extension": ".py",
   "mimetype": "text/x-python",
   "name": "python",
   "nbconvert_exporter": "python",
   "pygments_lexer": "ipython3",
   "version": "3.10.8"
  },
  "orig_nbformat": 4,
  "vscode": {
   "interpreter": {
    "hash": "a15f45e9648ea418709493598cf6dc15f3f10bfd638252a05c170f376927c9f6"
   }
  }
 },
 "nbformat": 4,
 "nbformat_minor": 2
}
